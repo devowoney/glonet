{
 "cells": [
  {
   "cell_type": "markdown",
   "id": "9ad51cb3",
   "metadata": {},
   "source": [
    "# Test run GLONET on IMTA server"
   ]
  },
  {
   "cell_type": "markdown",
   "id": "d0c57d5d",
   "metadata": {},
   "source": [
    "***\n",
    "## Pre"
   ]
  },
  {
   "cell_type": "code",
   "execution_count": 1,
   "id": "ecd40d45",
   "metadata": {},
   "outputs": [
    {
     "name": "stderr",
     "output_type": "stream",
     "text": [
      "/Odyssey/private/j25lee/miniforge3/envs/glon/lib/python3.12/site-packages/tqdm/auto.py:21: TqdmWarning: IProgress not found. Please update jupyter and ipywidgets. See https://ipywidgets.readthedocs.io/en/stable/user_install.html\n",
      "  from .autonotebook import tqdm as notebook_tqdm\n"
     ]
    }
   ],
   "source": [
    "import sys, os\n",
    "\n",
    "src_path = os.path.abspath(os.path.join(os.getcwd(), \"../glonet_daily_forecast_data_orchestration/src\"))\n",
    "if src_path not in sys.path:\n",
    "    sys.path.insert(0, src_path)\n",
    "\n",
    "from get_inits import generate_initial_data\n",
    "from glonet_forecast import create_forecast\n",
    "from model import synchronize_model_locally\n",
    "from s3_upload import save_bytes_to_s3"
   ]
  },
  {
   "cell_type": "code",
   "execution_count": 2,
   "id": "2eec116f",
   "metadata": {},
   "outputs": [],
   "source": [
    "EDITO_BUCKET_NAME=\"project-da-ml\"\n",
    "URL=\"https://minio.dive.edito.eu/project-glonet/public/glonet_1_4_daily_forecast/2025-06-24/GLONET_MOI_2025-06-25_2025-07-04.nc\""
   ]
  },
  {
   "cell_type": "code",
   "execution_count": 3,
   "id": "ef719df8",
   "metadata": {},
   "outputs": [
    {
     "name": "stdout",
     "output_type": "stream",
     "text": [
      "PyTorch version:       2.7.1+cu126\n",
      "CUDA available:        True\n",
      "CUDA version (build):  12.6\n",
      "cuDNN version:         90501\n"
     ]
    }
   ],
   "source": [
    "import torch\n",
    "\n",
    "print(\"PyTorch version:      \", torch.__version__)\n",
    "print(\"CUDA available:       \", torch.cuda.is_available())\n",
    "print(\"CUDA version (build): \", torch.version.cuda)\n",
    "print(\"cuDNN version:        \", torch.backends.cudnn.version())"
   ]
  },
  {
   "cell_type": "markdown",
   "id": "e6c1d840",
   "metadata": {},
   "source": [
    "***\n",
    "## Input and model"
   ]
  },
  {
   "cell_type": "code",
   "execution_count": 4,
   "id": "49b33074",
   "metadata": {},
   "outputs": [
    {
     "name": "stdout",
     "output_type": "stream",
     "text": [
      "Initial file already exists: https://minio.dive.edito.eu/project-glonet/public/glonet_1_4_daily_forecast/2025-06-24/inits/in1.nc\n",
      "Initial file already exists: https://minio.dive.edito.eu/project-glonet/public/glonet_1_4_daily_forecast/2025-06-24/inits/in2.nc\n",
      "Initial file already exists: https://minio.dive.edito.eu/project-glonet/public/glonet_1_4_daily_forecast/2025-06-24/inits/in3.nc\n"
     ]
    }
   ],
   "source": [
    "# Divid inital states array in 3 files\n",
    "cif1, cif2, cif3 = generate_initial_data(bucket_name=EDITO_BUCKET_NAME, \n",
    "                                        forecast_netcdf_file_url=URL)"
   ]
  },
  {
   "cell_type": "code",
   "execution_count": null,
   "id": "522e84aa",
   "metadata": {},
   "outputs": [
    {
     "name": "stdout",
     "output_type": "stream",
     "text": [
      "Syncing project-glonet/glonet_1_4_model/20241112/model/ in ../TrainedWeights...\n"
     ]
    }
   ],
   "source": [
    "import boto3\n",
    "s3 = boto3.client(\"s3\",endpoint_url = 'https://'+'minio.dive.edito.eu',\n",
    "                  aws_access_key_id= '3BJNRN2OR05B3FNRQ7L2', \n",
    "                  aws_secret_access_key= 'o2oPuJd+aOClMIuG+djC0FcWuUy3lXI9PRQYi2Tw', \n",
    "                  aws_session_token = 'eyJhbGciOiJIUzUxMiIsInR5cCI6IkpXVCJ9.eyJhY2Nlc3NLZXkiOiIzQkpOUk4yT1IwNUIzRk5SUTdMMiIsImFjciI6IjAiLCJhbGxvd2VkLW9yaWdpbnMiOlsiKiJdLCJhdWQiOlsibWluaW8iLCJhY2NvdW50Il0sImF1dGhfdGltZSI6MTc1MTY0MzI5MCwiYXpwIjoib255eGlhLW1pbmlvIiwiZW1haWwiOiJqdW5nd29uLmxlZUBpbXQtYXRsYW50aXF1ZS5mciIsImVtYWlsX3ZlcmlmaWVkIjp0cnVlLCJleHAiOjE3NTIwNjM3NzEsImZhbWlseV9uYW1lIjoiTEVFIiwiZ2l2ZW5fbmFtZSI6Ikp1bmd3b24iLCJncm91cHMiOlsiRURJVE9fVVNFUiIsImRhLW1sIiwiZ2xvbmV0Il0sImlhdCI6MTc1MTk3NzM3MSwiaXNzIjoiaHR0cHM6Ly9hdXRoLmRpdmUuZWRpdG8uZXUvYXV0aC9yZWFsbXMvZGF0YWxhYiIsImp0aSI6Ijc2YmYwMTQ5LTNhMmYtNDM1Zi05MTZhLTYxN2QwMDE2OWJlMiIsIm5hbWUiOiJKdW5nd29uIExFRSIsInBvbGljeSI6InN0c29ubHkiLCJwcmVmZXJyZWRfdXNlcm5hbWUiOiJqdW5nd29uIiwicmVhbG1fYWNjZXNzIjp7InJvbGVzIjpbImRlZmF1bHQtcm9sZXMtZGF0YWxhYiIsIm9mZmxpbmVfYWNjZXNzIiwidW1hX2F1dGhvcml6YXRpb24iXX0sInJlc291cmNlX2FjY2VzcyI6eyJhY2NvdW50Ijp7InJvbGVzIjpbIm1hbmFnZS1hY2NvdW50IiwibWFuYWdlLWFjY291bnQtbGlua3MiLCJ2aWV3LXByb2ZpbGUiXX0sIm1pbmlvIjp7InJvbGVzIjpbInN0c29ubHkiXX19LCJzY29wZSI6Im9wZW5pZCBlbWFpbCBwcm9maWxlIiwic2Vzc2lvbl9zdGF0ZSI6IjUzMzUwMDhkLWJhMmEtNGQ5Yy1hM2EzLWYwZTViZWRiODA1OSIsInNpZCI6IjUzMzUwMDhkLWJhMmEtNGQ5Yy1hM2EzLWYwZTViZWRiODA1OSIsInN1YiI6ImJhMWM5ZjdmLTkzMGQtNGNiOC05NWU5LWEyNjAzOTU4ZWVlMyIsInR5cCI6IkJlYXJlciJ9._SJnkwepdpgLu5p-RdeYpJg7F3t16jIowFcSgXN7262uSZate2v9tKZGQisHMWvnmPJMKcf2wvmowwLRCkaviw')\n",
    "\n",
    "from pathlib import Path\n",
    "\n",
    "\n",
    "def synchronize_model_locally(local_dir: str):\n",
    "    sync_s3_to_local(\n",
    "        \"project-glonet\", \"glonet_1_4_model/20241112/model/\", local_dir\n",
    "    )\n",
    "\n",
    "\n",
    "def sync_s3_to_local(bucket_name, remote_prefix, local_dir):\n",
    "    s3_client = s3\n",
    "    paginator = s3_client.get_paginator(\"list_objects_v2\")\n",
    "    local_dir = Path(local_dir)\n",
    "    local_dir.mkdir(parents=True, exist_ok=True)\n",
    "\n",
    "    print(f\"Syncing {bucket_name}/{remote_prefix} in {local_dir}...\")\n",
    "    for page in paginator.paginate(Bucket=bucket_name, Prefix=remote_prefix):\n",
    "        if \"Contents\" not in page:\n",
    "            print(f\"No files found in s3://{bucket_name}/{remote_prefix}\")\n",
    "            return\n",
    "\n",
    "        for obj in page[\"Contents\"]:\n",
    "            s3_key = obj[\"Key\"]\n",
    "            local_path = local_dir / s3_key[len(remote_prefix) :]\n",
    "\n",
    "            local_path.parent.mkdir(parents=True, exist_ok=True)\n",
    "\n",
    "            if (\n",
    "                not local_path.exists()\n",
    "                or obj[\"LastModified\"].timestamp() > local_path.stat().st_mtime\n",
    "            ):\n",
    "                s3_client.download_file(bucket_name, s3_key, str(local_path))\n",
    "    print(f\"Files {bucket_name}/{remote_prefix} synced in {local_dir}\")\n",
    "\n",
    "local_dir = \"../TrainedWeights\"\n",
    "synchronize_model_locally(local_dir=local_dir)"
   ]
  },
  {
   "cell_type": "code",
   "execution_count": null,
   "id": "4285f07d",
   "metadata": {},
   "outputs": [],
   "source": []
  }
 ],
 "metadata": {
  "kernelspec": {
   "display_name": "glon",
   "language": "python",
   "name": "python3"
  },
  "language_info": {
   "codemirror_mode": {
    "name": "ipython",
    "version": 3
   },
   "file_extension": ".py",
   "mimetype": "text/x-python",
   "name": "python",
   "nbconvert_exporter": "python",
   "pygments_lexer": "ipython3",
   "version": "3.12.11"
  }
 },
 "nbformat": 4,
 "nbformat_minor": 5
}
