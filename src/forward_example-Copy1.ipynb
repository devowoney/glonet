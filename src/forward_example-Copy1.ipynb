{
 "cells": [
  {
   "cell_type": "code",
   "execution_count": 2,
   "id": "9ab7344e-eef1-44b7-9ea5-0d95a784f383",
   "metadata": {},
   "outputs": [
    {
     "name": "stdout",
     "output_type": "stream",
     "text": [
      "ocean (t-1,t): torch.Size([1, 2, 5, 64, 32])\n",
      "ocean (t+1): torch.Size([1, 5, 64, 32])\n"
     ]
    }
   ],
   "source": [
    "import torch\n",
    "from glonet import Glonet\n",
    "\n",
    "x = torch.randn((1, 2, 5, 64, 32)) ## input ocean\n",
    "y_g = torch.randn((1, 5, 64, 32)).to('cuda') ## ground truth\n",
    "F = Glonet(dim=(2, 5, 64, 32))\n",
    "y = F(x) ## call glonet\n",
    "print(f\"ocean (t-1,t): {x.shape}\")\n",
    "print(f\"ocean (t+1): {y.shape}\")\n"
   ]
  },
  {
   "cell_type": "code",
   "execution_count": null,
   "id": "c7fa4ede-2941-414e-8674-e4eb5a2249a5",
   "metadata": {},
   "outputs": [],
   "source": []
  }
 ],
 "metadata": {
  "kernelspec": {
   "display_name": "Python 3 (ipykernel)",
   "language": "python",
   "name": "python3"
  },
  "language_info": {
   "codemirror_mode": {
    "name": "ipython",
    "version": 3
   },
   "file_extension": ".py",
   "mimetype": "text/x-python",
   "name": "python",
   "nbconvert_exporter": "python",
   "pygments_lexer": "ipython3",
   "version": "3.13.5"
  }
 },
 "nbformat": 4,
 "nbformat_minor": 5
}
