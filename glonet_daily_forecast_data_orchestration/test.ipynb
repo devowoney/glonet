{
 "cells": [
  {
   "cell_type": "markdown",
   "id": "d1dc90fa",
   "metadata": {},
   "source": [
    "# GLONET test run "
   ]
  },
  {
   "cell_type": "markdown",
   "id": "94f4cbe0",
   "metadata": {},
   "source": [
    "As a first user of GLONET, let's make a forecast on my own project bucket.<br> \n"
   ]
  },
  {
   "cell_type": "markdown",
   "id": "886187ce",
   "metadata": {},
   "source": [
    "## prerequisite\n",
    "Tell the python a target the repository where it should look at while the execution of code. <br>\n",
    "If not, the imported module could not read the module itself which is imported in script itself.\n",
    "\n",
    "(Simply, we can make a Jupyter notebook file in src repository. Meanwhile, src is src. We don't want messy the code)\n"
   ]
  },
  {
   "cell_type": "code",
   "execution_count": 1,
   "id": "56821cc9",
   "metadata": {},
   "outputs": [
    {
     "name": "stderr",
     "output_type": "stream",
     "text": [
      "/home/onyxia/miniforge3/envs/glon/lib/python3.12/site-packages/tqdm/auto.py:21: TqdmWarning: IProgress not found. Please update jupyter and ipywidgets. See https://ipywidgets.readthedocs.io/en/stable/user_install.html\n",
      "  from .autonotebook import tqdm as notebook_tqdm\n"
     ]
    }
   ],
   "source": [
    "import sys, os\n",
    "\n",
    "src_path = os.path.abspath(os.path.join(os.getcwd(), \"src\"))\n",
    "if src_path not in sys.path:\n",
    "    sys.path.insert(0, src_path)\n",
    "\n",
    "from get_inits import generate_initial_data\n",
    "from glonet_forecast import create_forecast\n",
    "from model import synchronize_model_locally\n",
    "from s3_upload import save_bytes_to_s3"
   ]
  },
  {
   "cell_type": "markdown",
   "id": "0862fcef",
   "metadata": {},
   "source": [
    "For the sake of simplicity, let's define some arguments of function as a **FINAL_TYPE_VARIABLE**. <br>\n",
    "In this example, 2025/07/01 NetCDF data is chosen. "
   ]
  },
  {
   "cell_type": "code",
   "execution_count": 2,
   "id": "88e11553",
   "metadata": {},
   "outputs": [],
   "source": [
    "EDITO_BUCKET_NAME=\"project-da-ml\"\n",
    "URL=\"https://minio.dive.edito.eu/project-glonet/public/glonet_1_4_daily_forecast/2025-07-01/GLONET_MOI_2025-07-02_2025-07-11.nc\""
   ]
  },
  {
   "cell_type": "markdown",
   "id": "384a28fd",
   "metadata": {},
   "source": [
    "Cuda availiablity check <br>"
   ]
  },
  {
   "cell_type": "code",
   "execution_count": 3,
   "id": "44cbecc5",
   "metadata": {},
   "outputs": [
    {
     "name": "stdout",
     "output_type": "stream",
     "text": [
      "PyTorch version:       2.7.1+cu126\n",
      "CUDA available:        True\n",
      "CUDA version (build):  12.6\n",
      "cuDNN version:         90501\n"
     ]
    }
   ],
   "source": [
    "import torch\n",
    "\n",
    "print(\"PyTorch version:      \", torch.__version__)\n",
    "print(\"CUDA available:       \", torch.cuda.is_available())\n",
    "print(\"CUDA version (build): \", torch.version.cuda)\n",
    "print(\"cuDNN version:        \", torch.backends.cudnn.version())\n"
   ]
  },
  {
   "cell_type": "markdown",
   "id": "e578fa49",
   "metadata": {},
   "source": [
    "## Input data"
   ]
  },
  {
   "cell_type": "markdown",
   "id": "da06deb9",
   "metadata": {},
   "source": [
    "The whole 3D ocean data is too huge to compute all at one time. So the GLONET takes 3 divided files as a input.<br>\n",
    "In this example, a past date is chosen for the forecasting which means the sliced input file is already exist. If not, they will be created by the function **generate_initila_data()**"
   ]
  },
  {
   "cell_type": "code",
   "execution_count": 4,
   "id": "b9d697dc",
   "metadata": {},
   "outputs": [
    {
     "name": "stdout",
     "output_type": "stream",
     "text": [
      "Initial file already exists: https://minio.dive.edito.eu/project-glonet/public/glonet_1_4_daily_forecast/2025-07-01/inits/in1.nc\n",
      "Initial file already exists: https://minio.dive.edito.eu/project-glonet/public/glonet_1_4_daily_forecast/2025-07-01/inits/in2.nc\n",
      "Initial file already exists: https://minio.dive.edito.eu/project-glonet/public/glonet_1_4_daily_forecast/2025-07-01/inits/in3.nc\n"
     ]
    }
   ],
   "source": [
    "# Divid inital states array in 3 files\n",
    "cif1, cif2, cif3 = generate_initial_data(bucket_name=EDITO_BUCKET_NAME, \n",
    "                                        forecast_netcdf_file_url=URL)"
   ]
  },
  {
   "cell_type": "markdown",
   "id": "904395ff",
   "metadata": {},
   "source": [
    "## Syncronizing model\n",
    "The GLONET is already trained with a dataset. More specifically, a dataset interpolated in $1/4^{\\circ}$ degree spatial resolution from  a issue of the GLORYS12 which has $1/12^{\\circ}$ spatial resolution. The trained model is stored in a clould, and in this example we are going to simply copy that model (weights)."
   ]
  },
  {
   "cell_type": "code",
   "execution_count": 5,
   "id": "6d3f4625",
   "metadata": {},
   "outputs": [
    {
     "name": "stdout",
     "output_type": "stream",
     "text": [
      "Syncing project-glonet/glonet_1_4_model/20241112/model/ in ../TrainedWeights...\n",
      "Files project-glonet/glonet_1_4_model/20241112/model/ synced in ../TrainedWeights\n"
     ]
    }
   ],
   "source": [
    "local_dir = \"../TrainedWeights\"\n",
    "synchronize_model_locally(local_dir=local_dir)"
   ]
  },
  {
   "cell_type": "markdown",
   "id": "d2f6c2c2",
   "metadata": {},
   "source": [
    "## Forecast\n",
    "Now, we have the GLONET forecast model and it's input.<br>\n",
    "It's time to make output **forecast** file.\n"
   ]
  },
  {
   "cell_type": "code",
   "execution_count": 6,
   "id": "061c3493",
   "metadata": {},
   "outputs": [
    {
     "name": "stdout",
     "output_type": "stream",
     "text": [
      "Creating 2025-07-01 forecast from 2025-06-30 to 2025-07-01...\n",
      "1\n"
     ]
    },
    {
     "name": "stderr",
     "output_type": "stream",
     "text": [
      "/home/onyxia/work/glonet/glonet_daily_forecast_data_orchestration/src/glonet_forecast.py:102: FutureWarning: `torch.cuda.amp.autocast(args...)` is deprecated. Please use `torch.amp.autocast('cuda', args...)` instead.\n",
      "  with autocast():\n"
     ]
    },
    {
     "name": "stdout",
     "output_type": "stream",
     "text": [
      "2\n"
     ]
    },
    {
     "name": "stderr",
     "output_type": "stream",
     "text": [
      "/home/onyxia/work/glonet/glonet_daily_forecast_data_orchestration/src/glonet_forecast.py:102: FutureWarning: `torch.cuda.amp.autocast(args...)` is deprecated. Please use `torch.amp.autocast('cuda', args...)` instead.\n",
      "  with autocast():\n"
     ]
    },
    {
     "name": "stdout",
     "output_type": "stream",
     "text": [
      "3\n"
     ]
    },
    {
     "name": "stderr",
     "output_type": "stream",
     "text": [
      "/home/onyxia/work/glonet/glonet_daily_forecast_data_orchestration/src/glonet_forecast.py:102: FutureWarning: `torch.cuda.amp.autocast(args...)` is deprecated. Please use `torch.amp.autocast('cuda', args...)` instead.\n",
      "  with autocast():\n"
     ]
    },
    {
     "name": "stdout",
     "output_type": "stream",
     "text": [
      "4\n"
     ]
    },
    {
     "name": "stderr",
     "output_type": "stream",
     "text": [
      "/home/onyxia/work/glonet/glonet_daily_forecast_data_orchestration/src/glonet_forecast.py:102: FutureWarning: `torch.cuda.amp.autocast(args...)` is deprecated. Please use `torch.amp.autocast('cuda', args...)` instead.\n",
      "  with autocast():\n"
     ]
    },
    {
     "name": "stdout",
     "output_type": "stream",
     "text": [
      "5\n"
     ]
    },
    {
     "name": "stderr",
     "output_type": "stream",
     "text": [
      "/home/onyxia/work/glonet/glonet_daily_forecast_data_orchestration/src/glonet_forecast.py:102: FutureWarning: `torch.cuda.amp.autocast(args...)` is deprecated. Please use `torch.amp.autocast('cuda', args...)` instead.\n",
      "  with autocast():\n"
     ]
    },
    {
     "name": "stdout",
     "output_type": "stream",
     "text": [
      "1\n"
     ]
    },
    {
     "name": "stderr",
     "output_type": "stream",
     "text": [
      "/home/onyxia/work/glonet/glonet_daily_forecast_data_orchestration/src/glonet_forecast.py:156: FutureWarning: `torch.cuda.amp.autocast(args...)` is deprecated. Please use `torch.amp.autocast('cuda', args...)` instead.\n",
      "  with autocast():\n"
     ]
    },
    {
     "name": "stdout",
     "output_type": "stream",
     "text": [
      "2\n"
     ]
    },
    {
     "name": "stderr",
     "output_type": "stream",
     "text": [
      "/home/onyxia/work/glonet/glonet_daily_forecast_data_orchestration/src/glonet_forecast.py:156: FutureWarning: `torch.cuda.amp.autocast(args...)` is deprecated. Please use `torch.amp.autocast('cuda', args...)` instead.\n",
      "  with autocast():\n"
     ]
    },
    {
     "name": "stdout",
     "output_type": "stream",
     "text": [
      "3\n"
     ]
    },
    {
     "name": "stderr",
     "output_type": "stream",
     "text": [
      "/home/onyxia/work/glonet/glonet_daily_forecast_data_orchestration/src/glonet_forecast.py:156: FutureWarning: `torch.cuda.amp.autocast(args...)` is deprecated. Please use `torch.amp.autocast('cuda', args...)` instead.\n",
      "  with autocast():\n"
     ]
    },
    {
     "name": "stdout",
     "output_type": "stream",
     "text": [
      "4\n"
     ]
    },
    {
     "name": "stderr",
     "output_type": "stream",
     "text": [
      "/home/onyxia/work/glonet/glonet_daily_forecast_data_orchestration/src/glonet_forecast.py:156: FutureWarning: `torch.cuda.amp.autocast(args...)` is deprecated. Please use `torch.amp.autocast('cuda', args...)` instead.\n",
      "  with autocast():\n"
     ]
    },
    {
     "name": "stdout",
     "output_type": "stream",
     "text": [
      "5\n"
     ]
    },
    {
     "name": "stderr",
     "output_type": "stream",
     "text": [
      "/home/onyxia/work/glonet/glonet_daily_forecast_data_orchestration/src/glonet_forecast.py:156: FutureWarning: `torch.cuda.amp.autocast(args...)` is deprecated. Please use `torch.amp.autocast('cuda', args...)` instead.\n",
      "  with autocast():\n"
     ]
    },
    {
     "name": "stdout",
     "output_type": "stream",
     "text": [
      "1\n"
     ]
    },
    {
     "name": "stderr",
     "output_type": "stream",
     "text": [
      "/home/onyxia/work/glonet/glonet_daily_forecast_data_orchestration/src/glonet_forecast.py:208: FutureWarning: `torch.cuda.amp.autocast(args...)` is deprecated. Please use `torch.amp.autocast('cuda', args...)` instead.\n",
      "  with autocast():\n"
     ]
    },
    {
     "name": "stdout",
     "output_type": "stream",
     "text": [
      "2\n"
     ]
    },
    {
     "name": "stderr",
     "output_type": "stream",
     "text": [
      "/home/onyxia/work/glonet/glonet_daily_forecast_data_orchestration/src/glonet_forecast.py:208: FutureWarning: `torch.cuda.amp.autocast(args...)` is deprecated. Please use `torch.amp.autocast('cuda', args...)` instead.\n",
      "  with autocast():\n"
     ]
    },
    {
     "name": "stdout",
     "output_type": "stream",
     "text": [
      "3\n"
     ]
    },
    {
     "name": "stderr",
     "output_type": "stream",
     "text": [
      "/home/onyxia/work/glonet/glonet_daily_forecast_data_orchestration/src/glonet_forecast.py:208: FutureWarning: `torch.cuda.amp.autocast(args...)` is deprecated. Please use `torch.amp.autocast('cuda', args...)` instead.\n",
      "  with autocast():\n"
     ]
    },
    {
     "name": "stdout",
     "output_type": "stream",
     "text": [
      "4\n"
     ]
    },
    {
     "name": "stderr",
     "output_type": "stream",
     "text": [
      "/home/onyxia/work/glonet/glonet_daily_forecast_data_orchestration/src/glonet_forecast.py:208: FutureWarning: `torch.cuda.amp.autocast(args...)` is deprecated. Please use `torch.amp.autocast('cuda', args...)` instead.\n",
      "  with autocast():\n"
     ]
    },
    {
     "name": "stdout",
     "output_type": "stream",
     "text": [
      "5\n"
     ]
    },
    {
     "name": "stderr",
     "output_type": "stream",
     "text": [
      "/home/onyxia/work/glonet/glonet_daily_forecast_data_orchestration/src/glonet_forecast.py:208: FutureWarning: `torch.cuda.amp.autocast(args...)` is deprecated. Please use `torch.amp.autocast('cuda', args...)` instead.\n",
      "  with autocast():\n"
     ]
    },
    {
     "name": "stdout",
     "output_type": "stream",
     "text": [
      "Time to get-process data: 0.2845 seconds\n",
      "Time taken by for 10 days on cpu: 476.9446 seconds\n"
     ]
    }
   ],
   "source": [
    "forecast_file_nc = create_forecast(forecast_netcdf_file_url=URL,\n",
    "                                model_dir=local_dir, \n",
    "                                initial_file_1_url=cif1, \n",
    "                                initial_file_2_url=cif2, \n",
    "                                initial_file_3_url=cif3)"
   ]
  },
  {
   "cell_type": "markdown",
   "id": "0a99cf1b",
   "metadata": {},
   "source": [
    "## Examine the output file"
   ]
  },
  {
   "cell_type": "code",
   "execution_count": 7,
   "id": "b04d5e5b",
   "metadata": {},
   "outputs": [
    {
     "data": {
      "text/html": [
       "<div><svg style=\"position: absolute; width: 0; height: 0; overflow: hidden\">\n",
       "<defs>\n",
       "<symbol id=\"icon-database\" viewBox=\"0 0 32 32\">\n",
       "<path d=\"M16 0c-8.837 0-16 2.239-16 5v4c0 2.761 7.163 5 16 5s16-2.239 16-5v-4c0-2.761-7.163-5-16-5z\"></path>\n",
       "<path d=\"M16 17c-8.837 0-16-2.239-16-5v6c0 2.761 7.163 5 16 5s16-2.239 16-5v-6c0 2.761-7.163 5-16 5z\"></path>\n",
       "<path d=\"M16 26c-8.837 0-16-2.239-16-5v6c0 2.761 7.163 5 16 5s16-2.239 16-5v-6c0 2.761-7.163 5-16 5z\"></path>\n",
       "</symbol>\n",
       "<symbol id=\"icon-file-text2\" viewBox=\"0 0 32 32\">\n",
       "<path d=\"M28.681 7.159c-0.694-0.947-1.662-2.053-2.724-3.116s-2.169-2.030-3.116-2.724c-1.612-1.182-2.393-1.319-2.841-1.319h-15.5c-1.378 0-2.5 1.121-2.5 2.5v27c0 1.378 1.122 2.5 2.5 2.5h23c1.378 0 2.5-1.122 2.5-2.5v-19.5c0-0.448-0.137-1.23-1.319-2.841zM24.543 5.457c0.959 0.959 1.712 1.825 2.268 2.543h-4.811v-4.811c0.718 0.556 1.584 1.309 2.543 2.268zM28 29.5c0 0.271-0.229 0.5-0.5 0.5h-23c-0.271 0-0.5-0.229-0.5-0.5v-27c0-0.271 0.229-0.5 0.5-0.5 0 0 15.499-0 15.5 0v7c0 0.552 0.448 1 1 1h7v19.5z\"></path>\n",
       "<path d=\"M23 26h-14c-0.552 0-1-0.448-1-1s0.448-1 1-1h14c0.552 0 1 0.448 1 1s-0.448 1-1 1z\"></path>\n",
       "<path d=\"M23 22h-14c-0.552 0-1-0.448-1-1s0.448-1 1-1h14c0.552 0 1 0.448 1 1s-0.448 1-1 1z\"></path>\n",
       "<path d=\"M23 18h-14c-0.552 0-1-0.448-1-1s0.448-1 1-1h14c0.552 0 1 0.448 1 1s-0.448 1-1 1z\"></path>\n",
       "</symbol>\n",
       "</defs>\n",
       "</svg>\n",
       "<style>/* CSS stylesheet for displaying xarray objects in jupyterlab.\n",
       " *\n",
       " */\n",
       "\n",
       ":root {\n",
       "  --xr-font-color0: var(\n",
       "    --jp-content-font-color0,\n",
       "    var(--pst-color-text-base rgba(0, 0, 0, 1))\n",
       "  );\n",
       "  --xr-font-color2: var(\n",
       "    --jp-content-font-color2,\n",
       "    var(--pst-color-text-base, rgba(0, 0, 0, 0.54))\n",
       "  );\n",
       "  --xr-font-color3: var(\n",
       "    --jp-content-font-color3,\n",
       "    var(--pst-color-text-base, rgba(0, 0, 0, 0.38))\n",
       "  );\n",
       "  --xr-border-color: var(\n",
       "    --jp-border-color2,\n",
       "    hsl(from var(--pst-color-on-background, white) h s calc(l - 10))\n",
       "  );\n",
       "  --xr-disabled-color: var(\n",
       "    --jp-layout-color3,\n",
       "    hsl(from var(--pst-color-on-background, white) h s calc(l - 40))\n",
       "  );\n",
       "  --xr-background-color: var(\n",
       "    --jp-layout-color0,\n",
       "    var(--pst-color-on-background, white)\n",
       "  );\n",
       "  --xr-background-color-row-even: var(\n",
       "    --jp-layout-color1,\n",
       "    hsl(from var(--pst-color-on-background, white) h s calc(l - 5))\n",
       "  );\n",
       "  --xr-background-color-row-odd: var(\n",
       "    --jp-layout-color2,\n",
       "    hsl(from var(--pst-color-on-background, white) h s calc(l - 15))\n",
       "  );\n",
       "}\n",
       "\n",
       "html[theme=\"dark\"],\n",
       "html[data-theme=\"dark\"],\n",
       "body[data-theme=\"dark\"],\n",
       "body.vscode-dark {\n",
       "  --xr-font-color0: var(\n",
       "    --jp-content-font-color0,\n",
       "    var(--pst-color-text-base, rgba(255, 255, 255, 1))\n",
       "  );\n",
       "  --xr-font-color2: var(\n",
       "    --jp-content-font-color2,\n",
       "    var(--pst-color-text-base, rgba(255, 255, 255, 0.54))\n",
       "  );\n",
       "  --xr-font-color3: var(\n",
       "    --jp-content-font-color3,\n",
       "    var(--pst-color-text-base, rgba(255, 255, 255, 0.38))\n",
       "  );\n",
       "  --xr-border-color: var(\n",
       "    --jp-border-color2,\n",
       "    hsl(from var(--pst-color-on-background, #111111) h s calc(l + 10))\n",
       "  );\n",
       "  --xr-disabled-color: var(\n",
       "    --jp-layout-color3,\n",
       "    hsl(from var(--pst-color-on-background, #111111) h s calc(l + 40))\n",
       "  );\n",
       "  --xr-background-color: var(\n",
       "    --jp-layout-color0,\n",
       "    var(--pst-color-on-background, #111111)\n",
       "  );\n",
       "  --xr-background-color-row-even: var(\n",
       "    --jp-layout-color1,\n",
       "    hsl(from var(--pst-color-on-background, #111111) h s calc(l + 5))\n",
       "  );\n",
       "  --xr-background-color-row-odd: var(\n",
       "    --jp-layout-color2,\n",
       "    hsl(from var(--pst-color-on-background, #111111) h s calc(l + 15))\n",
       "  );\n",
       "}\n",
       "\n",
       ".xr-wrap {\n",
       "  display: block !important;\n",
       "  min-width: 300px;\n",
       "  max-width: 700px;\n",
       "}\n",
       "\n",
       ".xr-text-repr-fallback {\n",
       "  /* fallback to plain text repr when CSS is not injected (untrusted notebook) */\n",
       "  display: none;\n",
       "}\n",
       "\n",
       ".xr-header {\n",
       "  padding-top: 6px;\n",
       "  padding-bottom: 6px;\n",
       "  margin-bottom: 4px;\n",
       "  border-bottom: solid 1px var(--xr-border-color);\n",
       "}\n",
       "\n",
       ".xr-header > div,\n",
       ".xr-header > ul {\n",
       "  display: inline;\n",
       "  margin-top: 0;\n",
       "  margin-bottom: 0;\n",
       "}\n",
       "\n",
       ".xr-obj-type,\n",
       ".xr-array-name {\n",
       "  margin-left: 2px;\n",
       "  margin-right: 10px;\n",
       "}\n",
       "\n",
       ".xr-obj-type {\n",
       "  color: var(--xr-font-color2);\n",
       "}\n",
       "\n",
       ".xr-sections {\n",
       "  padding-left: 0 !important;\n",
       "  display: grid;\n",
       "  grid-template-columns: 150px auto auto 1fr 0 20px 0 20px;\n",
       "}\n",
       "\n",
       ".xr-section-item {\n",
       "  display: contents;\n",
       "}\n",
       "\n",
       ".xr-section-item input {\n",
       "  display: inline-block;\n",
       "  opacity: 0;\n",
       "  height: 0;\n",
       "}\n",
       "\n",
       ".xr-section-item input + label {\n",
       "  color: var(--xr-disabled-color);\n",
       "  border: 2px solid transparent !important;\n",
       "}\n",
       "\n",
       ".xr-section-item input:enabled + label {\n",
       "  cursor: pointer;\n",
       "  color: var(--xr-font-color2);\n",
       "}\n",
       "\n",
       ".xr-section-item input:focus + label {\n",
       "  border: 2px solid var(--xr-font-color0) !important;\n",
       "}\n",
       "\n",
       ".xr-section-item input:enabled + label:hover {\n",
       "  color: var(--xr-font-color0);\n",
       "}\n",
       "\n",
       ".xr-section-summary {\n",
       "  grid-column: 1;\n",
       "  color: var(--xr-font-color2);\n",
       "  font-weight: 500;\n",
       "}\n",
       "\n",
       ".xr-section-summary > span {\n",
       "  display: inline-block;\n",
       "  padding-left: 0.5em;\n",
       "}\n",
       "\n",
       ".xr-section-summary-in:disabled + label {\n",
       "  color: var(--xr-font-color2);\n",
       "}\n",
       "\n",
       ".xr-section-summary-in + label:before {\n",
       "  display: inline-block;\n",
       "  content: \"►\";\n",
       "  font-size: 11px;\n",
       "  width: 15px;\n",
       "  text-align: center;\n",
       "}\n",
       "\n",
       ".xr-section-summary-in:disabled + label:before {\n",
       "  color: var(--xr-disabled-color);\n",
       "}\n",
       "\n",
       ".xr-section-summary-in:checked + label:before {\n",
       "  content: \"▼\";\n",
       "}\n",
       "\n",
       ".xr-section-summary-in:checked + label > span {\n",
       "  display: none;\n",
       "}\n",
       "\n",
       ".xr-section-summary,\n",
       ".xr-section-inline-details {\n",
       "  padding-top: 4px;\n",
       "  padding-bottom: 4px;\n",
       "}\n",
       "\n",
       ".xr-section-inline-details {\n",
       "  grid-column: 2 / -1;\n",
       "}\n",
       "\n",
       ".xr-section-details {\n",
       "  display: none;\n",
       "  grid-column: 1 / -1;\n",
       "  margin-bottom: 5px;\n",
       "}\n",
       "\n",
       ".xr-section-summary-in:checked ~ .xr-section-details {\n",
       "  display: contents;\n",
       "}\n",
       "\n",
       ".xr-array-wrap {\n",
       "  grid-column: 1 / -1;\n",
       "  display: grid;\n",
       "  grid-template-columns: 20px auto;\n",
       "}\n",
       "\n",
       ".xr-array-wrap > label {\n",
       "  grid-column: 1;\n",
       "  vertical-align: top;\n",
       "}\n",
       "\n",
       ".xr-preview {\n",
       "  color: var(--xr-font-color3);\n",
       "}\n",
       "\n",
       ".xr-array-preview,\n",
       ".xr-array-data {\n",
       "  padding: 0 5px !important;\n",
       "  grid-column: 2;\n",
       "}\n",
       "\n",
       ".xr-array-data,\n",
       ".xr-array-in:checked ~ .xr-array-preview {\n",
       "  display: none;\n",
       "}\n",
       "\n",
       ".xr-array-in:checked ~ .xr-array-data,\n",
       ".xr-array-preview {\n",
       "  display: inline-block;\n",
       "}\n",
       "\n",
       ".xr-dim-list {\n",
       "  display: inline-block !important;\n",
       "  list-style: none;\n",
       "  padding: 0 !important;\n",
       "  margin: 0;\n",
       "}\n",
       "\n",
       ".xr-dim-list li {\n",
       "  display: inline-block;\n",
       "  padding: 0;\n",
       "  margin: 0;\n",
       "}\n",
       "\n",
       ".xr-dim-list:before {\n",
       "  content: \"(\";\n",
       "}\n",
       "\n",
       ".xr-dim-list:after {\n",
       "  content: \")\";\n",
       "}\n",
       "\n",
       ".xr-dim-list li:not(:last-child):after {\n",
       "  content: \",\";\n",
       "  padding-right: 5px;\n",
       "}\n",
       "\n",
       ".xr-has-index {\n",
       "  font-weight: bold;\n",
       "}\n",
       "\n",
       ".xr-var-list,\n",
       ".xr-var-item {\n",
       "  display: contents;\n",
       "}\n",
       "\n",
       ".xr-var-item > div,\n",
       ".xr-var-item label,\n",
       ".xr-var-item > .xr-var-name span {\n",
       "  background-color: var(--xr-background-color-row-even);\n",
       "  border-color: var(--xr-background-color-row-odd);\n",
       "  margin-bottom: 0;\n",
       "  padding-top: 2px;\n",
       "}\n",
       "\n",
       ".xr-var-item > .xr-var-name:hover span {\n",
       "  padding-right: 5px;\n",
       "}\n",
       "\n",
       ".xr-var-list > li:nth-child(odd) > div,\n",
       ".xr-var-list > li:nth-child(odd) > label,\n",
       ".xr-var-list > li:nth-child(odd) > .xr-var-name span {\n",
       "  background-color: var(--xr-background-color-row-odd);\n",
       "  border-color: var(--xr-background-color-row-even);\n",
       "}\n",
       "\n",
       ".xr-var-name {\n",
       "  grid-column: 1;\n",
       "}\n",
       "\n",
       ".xr-var-dims {\n",
       "  grid-column: 2;\n",
       "}\n",
       "\n",
       ".xr-var-dtype {\n",
       "  grid-column: 3;\n",
       "  text-align: right;\n",
       "  color: var(--xr-font-color2);\n",
       "}\n",
       "\n",
       ".xr-var-preview {\n",
       "  grid-column: 4;\n",
       "}\n",
       "\n",
       ".xr-index-preview {\n",
       "  grid-column: 2 / 5;\n",
       "  color: var(--xr-font-color2);\n",
       "}\n",
       "\n",
       ".xr-var-name,\n",
       ".xr-var-dims,\n",
       ".xr-var-dtype,\n",
       ".xr-preview,\n",
       ".xr-attrs dt {\n",
       "  white-space: nowrap;\n",
       "  overflow: hidden;\n",
       "  text-overflow: ellipsis;\n",
       "  padding-right: 10px;\n",
       "}\n",
       "\n",
       ".xr-var-name:hover,\n",
       ".xr-var-dims:hover,\n",
       ".xr-var-dtype:hover,\n",
       ".xr-attrs dt:hover {\n",
       "  overflow: visible;\n",
       "  width: auto;\n",
       "  z-index: 1;\n",
       "}\n",
       "\n",
       ".xr-var-attrs,\n",
       ".xr-var-data,\n",
       ".xr-index-data {\n",
       "  display: none;\n",
       "  border-top: 2px dotted var(--xr-background-color);\n",
       "  padding-bottom: 20px !important;\n",
       "  padding-top: 10px !important;\n",
       "}\n",
       "\n",
       ".xr-var-attrs-in + label,\n",
       ".xr-var-data-in + label,\n",
       ".xr-index-data-in + label {\n",
       "  padding: 0 1px;\n",
       "}\n",
       "\n",
       ".xr-var-attrs-in:checked ~ .xr-var-attrs,\n",
       ".xr-var-data-in:checked ~ .xr-var-data,\n",
       ".xr-index-data-in:checked ~ .xr-index-data {\n",
       "  display: block;\n",
       "}\n",
       "\n",
       ".xr-var-data > table {\n",
       "  float: right;\n",
       "}\n",
       "\n",
       ".xr-var-data > pre,\n",
       ".xr-index-data > pre,\n",
       ".xr-var-data > table > tbody > tr {\n",
       "  background-color: transparent !important;\n",
       "}\n",
       "\n",
       ".xr-var-name span,\n",
       ".xr-var-data,\n",
       ".xr-index-name div,\n",
       ".xr-index-data,\n",
       ".xr-attrs {\n",
       "  padding-left: 25px !important;\n",
       "}\n",
       "\n",
       ".xr-attrs,\n",
       ".xr-var-attrs,\n",
       ".xr-var-data,\n",
       ".xr-index-data {\n",
       "  grid-column: 1 / -1;\n",
       "}\n",
       "\n",
       "dl.xr-attrs {\n",
       "  padding: 0;\n",
       "  margin: 0;\n",
       "  display: grid;\n",
       "  grid-template-columns: 125px auto;\n",
       "}\n",
       "\n",
       ".xr-attrs dt,\n",
       ".xr-attrs dd {\n",
       "  padding: 0;\n",
       "  margin: 0;\n",
       "  float: left;\n",
       "  padding-right: 10px;\n",
       "  width: auto;\n",
       "}\n",
       "\n",
       ".xr-attrs dt {\n",
       "  font-weight: normal;\n",
       "  grid-column: 1;\n",
       "}\n",
       "\n",
       ".xr-attrs dt:hover span {\n",
       "  display: inline-block;\n",
       "  background: var(--xr-background-color);\n",
       "  padding-right: 10px;\n",
       "}\n",
       "\n",
       ".xr-attrs dd {\n",
       "  grid-column: 2;\n",
       "  white-space: pre-wrap;\n",
       "  word-break: break-all;\n",
       "}\n",
       "\n",
       ".xr-icon-database,\n",
       ".xr-icon-file-text2,\n",
       ".xr-no-icon {\n",
       "  display: inline-block;\n",
       "  vertical-align: middle;\n",
       "  width: 1em;\n",
       "  height: 1.5em !important;\n",
       "  stroke-width: 0;\n",
       "  stroke: currentColor;\n",
       "  fill: currentColor;\n",
       "}\n",
       "\n",
       ".xr-var-attrs-in:checked + label > .xr-icon-file-text2,\n",
       ".xr-var-data-in:checked + label > .xr-icon-database,\n",
       ".xr-index-data-in:checked + label > .xr-icon-database {\n",
       "  color: var(--xr-font-color0);\n",
       "  filter: drop-shadow(1px 1px 5px var(--xr-font-color2));\n",
       "  stroke-width: 0.8px;\n",
       "}\n",
       "</style><pre class='xr-text-repr-fallback'>&lt;xarray.Dataset&gt; Size: 7GB\n",
       "Dimensions:    (time: 10, depth: 21, latitude: 672, longitude: 1440)\n",
       "Coordinates:\n",
       "  * depth      (depth) float32 84B 0.494 47.37 92.33 ... 4.833e+03 5.275e+03\n",
       "  * latitude   (latitude) float64 5kB -78.0 -77.75 -77.5 ... 89.25 89.5 89.75\n",
       "  * longitude  (longitude) float64 12kB -180.0 -179.8 -179.5 ... 179.5 179.8\n",
       "  * time       (time) datetime64[s] 80B 2025-07-02 2025-07-03 ... 2025-07-11\n",
       "Data variables:\n",
       "    thetao     (time, depth, latitude, longitude) float64 2GB nan nan ... nan\n",
       "    zos        (time, latitude, longitude) float64 77MB nan nan ... -0.3361\n",
       "    uo         (time, depth, latitude, longitude) float64 2GB nan nan ... nan\n",
       "    vo         (time, depth, latitude, longitude) float64 2GB nan nan ... nan\n",
       "    so         (time, depth, latitude, longitude) float64 2GB nan nan ... nan\n",
       "Attributes:\n",
       "    Conventions:  CF-1.8\n",
       "    area:         Global\n",
       "    contact:      glonet@mercator-ocean.eu\n",
       "    institution:  Mercator Ocean International\n",
       "    source:       MOI GLONET\n",
       "    title:        daily mean fields from GLONET 1/4 degree resolution Forecas...\n",
       "    references:   www.edito.eu</pre><div class='xr-wrap' style='display:none'><div class='xr-header'><div class='xr-obj-type'>xarray.Dataset</div></div><ul class='xr-sections'><li class='xr-section-item'><input id='section-43590d88-5f2b-45e9-b23e-77375c1b0a8d' class='xr-section-summary-in' type='checkbox' disabled ><label for='section-43590d88-5f2b-45e9-b23e-77375c1b0a8d' class='xr-section-summary'  title='Expand/collapse section'>Dimensions:</label><div class='xr-section-inline-details'><ul class='xr-dim-list'><li><span class='xr-has-index'>time</span>: 10</li><li><span class='xr-has-index'>depth</span>: 21</li><li><span class='xr-has-index'>latitude</span>: 672</li><li><span class='xr-has-index'>longitude</span>: 1440</li></ul></div><div class='xr-section-details'></div></li><li class='xr-section-item'><input id='section-90530d6c-8fbb-43dd-8429-b05749519b2c' class='xr-section-summary-in' type='checkbox'  checked><label for='section-90530d6c-8fbb-43dd-8429-b05749519b2c' class='xr-section-summary' >Coordinates: <span>(4)</span></label><div class='xr-section-inline-details'></div><div class='xr-section-details'><ul class='xr-var-list'><li class='xr-var-item'><div class='xr-var-name'><span class='xr-has-index'>depth</span></div><div class='xr-var-dims'>(depth)</div><div class='xr-var-dtype'>float32</div><div class='xr-var-preview xr-preview'>0.494 47.37 ... 4.833e+03 5.275e+03</div><input id='attrs-179b6338-c162-41c1-bd32-64a3e889c3f9' class='xr-var-attrs-in' type='checkbox' ><label for='attrs-179b6338-c162-41c1-bd32-64a3e889c3f9' title='Show/Hide attributes'><svg class='icon xr-icon-file-text2'><use xlink:href='#icon-file-text2'></use></svg></label><input id='data-47f6d939-1a88-47f5-8213-d7db66493c61' class='xr-var-data-in' type='checkbox'><label for='data-47f6d939-1a88-47f5-8213-d7db66493c61' title='Show/Hide data repr'><svg class='icon xr-icon-database'><use xlink:href='#icon-database'></use></svg></label><div class='xr-var-attrs'><dl class='xr-attrs'><dt><span>axis :</span></dt><dd>Z</dd><dt><span>long_name :</span></dt><dd>Elevation</dd><dt><span>positive :</span></dt><dd>down</dd><dt><span>standard_name :</span></dt><dd>elevation</dd><dt><span>unit_long :</span></dt><dd>Meters</dd><dt><span>units :</span></dt><dd>m</dd><dt><span>valid_min :</span></dt><dd>0.494025</dd><dt><span>valid_max :</span></dt><dd>5727.917</dd></dl></div><div class='xr-var-data'><pre>array([4.940250e-01, 4.737369e+01, 9.232607e+01, 1.558507e+02, 2.224752e+02,\n",
       "       3.181274e+02, 3.802130e+02, 4.539377e+02, 5.410889e+02, 6.435668e+02,\n",
       "       7.633331e+02, 9.023393e+02, 1.245291e+03, 1.684284e+03, 2.225078e+03,\n",
       "       3.220820e+03, 3.597032e+03, 3.992484e+03, 4.405224e+03, 4.833291e+03,\n",
       "       5.274784e+03], dtype=float32)</pre></div></li><li class='xr-var-item'><div class='xr-var-name'><span class='xr-has-index'>latitude</span></div><div class='xr-var-dims'>(latitude)</div><div class='xr-var-dtype'>float64</div><div class='xr-var-preview xr-preview'>-78.0 -77.75 -77.5 ... 89.5 89.75</div><input id='attrs-0c64cd76-f4bb-4fe7-83a5-eed704929878' class='xr-var-attrs-in' type='checkbox' ><label for='attrs-0c64cd76-f4bb-4fe7-83a5-eed704929878' title='Show/Hide attributes'><svg class='icon xr-icon-file-text2'><use xlink:href='#icon-file-text2'></use></svg></label><input id='data-025fd79c-10bb-4eb8-82cf-d49709cb4c2c' class='xr-var-data-in' type='checkbox'><label for='data-025fd79c-10bb-4eb8-82cf-d49709cb4c2c' title='Show/Hide data repr'><svg class='icon xr-icon-database'><use xlink:href='#icon-database'></use></svg></label><div class='xr-var-attrs'><dl class='xr-attrs'><dt><span>axis :</span></dt><dd>Y</dd><dt><span>long_name :</span></dt><dd>Latitude</dd><dt><span>standard_name :</span></dt><dd>latitude</dd><dt><span>step :</span></dt><dd>0.25</dd><dt><span>unit_long :</span></dt><dd>Degrees North</dd><dt><span>units :</span></dt><dd>degrees_north</dd><dt><span>valid_max :</span></dt><dd>89.75</dd><dt><span>valid_min :</span></dt><dd>-78.0</dd></dl></div><div class='xr-var-data'><pre>array([-78.  , -77.75, -77.5 , ...,  89.25,  89.5 ,  89.75], shape=(672,))</pre></div></li><li class='xr-var-item'><div class='xr-var-name'><span class='xr-has-index'>longitude</span></div><div class='xr-var-dims'>(longitude)</div><div class='xr-var-dtype'>float64</div><div class='xr-var-preview xr-preview'>-180.0 -179.8 ... 179.5 179.8</div><input id='attrs-3d646419-d0b2-4148-a1d0-3db0660d4769' class='xr-var-attrs-in' type='checkbox' ><label for='attrs-3d646419-d0b2-4148-a1d0-3db0660d4769' title='Show/Hide attributes'><svg class='icon xr-icon-file-text2'><use xlink:href='#icon-file-text2'></use></svg></label><input id='data-3a33af65-26ab-4636-a178-e36b7bc5c72d' class='xr-var-data-in' type='checkbox'><label for='data-3a33af65-26ab-4636-a178-e36b7bc5c72d' title='Show/Hide data repr'><svg class='icon xr-icon-database'><use xlink:href='#icon-database'></use></svg></label><div class='xr-var-attrs'><dl class='xr-attrs'><dt><span>axis :</span></dt><dd>X</dd><dt><span>long_name :</span></dt><dd>Longitude</dd><dt><span>standard_name :</span></dt><dd>longitude</dd><dt><span>step :</span></dt><dd>0.25</dd><dt><span>unit_long :</span></dt><dd>Degrees East</dd><dt><span>units :</span></dt><dd>degrees_east</dd><dt><span>valid_max :</span></dt><dd>179.75</dd><dt><span>valid_min :</span></dt><dd>-180.0</dd></dl></div><div class='xr-var-data'><pre>array([-180.  , -179.75, -179.5 , ...,  179.25,  179.5 ,  179.75],\n",
       "      shape=(1440,))</pre></div></li><li class='xr-var-item'><div class='xr-var-name'><span class='xr-has-index'>time</span></div><div class='xr-var-dims'>(time)</div><div class='xr-var-dtype'>datetime64[s]</div><div class='xr-var-preview xr-preview'>2025-07-02 ... 2025-07-11</div><input id='attrs-a7f20933-ffd8-468c-945a-d701727529ca' class='xr-var-attrs-in' type='checkbox' ><label for='attrs-a7f20933-ffd8-468c-945a-d701727529ca' title='Show/Hide attributes'><svg class='icon xr-icon-file-text2'><use xlink:href='#icon-file-text2'></use></svg></label><input id='data-3a9583e1-07ba-433c-b909-5d71a6c107ee' class='xr-var-data-in' type='checkbox'><label for='data-3a9583e1-07ba-433c-b909-5d71a6c107ee' title='Show/Hide data repr'><svg class='icon xr-icon-database'><use xlink:href='#icon-database'></use></svg></label><div class='xr-var-attrs'><dl class='xr-attrs'><dt><span>valid_min :</span></dt><dd>2025-07-02</dd><dt><span>valid_max :</span></dt><dd>2025-07-11</dd></dl></div><div class='xr-var-data'><pre>array([&#x27;2025-07-02T00:00:00&#x27;, &#x27;2025-07-03T00:00:00&#x27;, &#x27;2025-07-04T00:00:00&#x27;,\n",
       "       &#x27;2025-07-05T00:00:00&#x27;, &#x27;2025-07-06T00:00:00&#x27;, &#x27;2025-07-07T00:00:00&#x27;,\n",
       "       &#x27;2025-07-08T00:00:00&#x27;, &#x27;2025-07-09T00:00:00&#x27;, &#x27;2025-07-10T00:00:00&#x27;,\n",
       "       &#x27;2025-07-11T00:00:00&#x27;], dtype=&#x27;datetime64[s]&#x27;)</pre></div></li></ul></div></li><li class='xr-section-item'><input id='section-da1e0b63-0d02-4f3f-8738-15f51a8445ab' class='xr-section-summary-in' type='checkbox'  checked><label for='section-da1e0b63-0d02-4f3f-8738-15f51a8445ab' class='xr-section-summary' >Data variables: <span>(5)</span></label><div class='xr-section-inline-details'></div><div class='xr-section-details'><ul class='xr-var-list'><li class='xr-var-item'><div class='xr-var-name'><span>thetao</span></div><div class='xr-var-dims'>(time, depth, latitude, longitude)</div><div class='xr-var-dtype'>float64</div><div class='xr-var-preview xr-preview'>nan nan nan nan ... nan nan nan nan</div><input id='attrs-6f91ab68-8920-4c71-a602-c65b33bd10ff' class='xr-var-attrs-in' type='checkbox' ><label for='attrs-6f91ab68-8920-4c71-a602-c65b33bd10ff' title='Show/Hide attributes'><svg class='icon xr-icon-file-text2'><use xlink:href='#icon-file-text2'></use></svg></label><input id='data-43b7c009-5384-48d4-bded-1092266307a4' class='xr-var-data-in' type='checkbox'><label for='data-43b7c009-5384-48d4-bded-1092266307a4' title='Show/Hide data repr'><svg class='icon xr-icon-database'><use xlink:href='#icon-database'></use></svg></label><div class='xr-var-attrs'><dl class='xr-attrs'><dt><span>cell_methods :</span></dt><dd>area: mean</dd><dt><span>long_name :</span></dt><dd>Temperature</dd><dt><span>standard_name :</span></dt><dd>sea_water_potential_temperature</dd><dt><span>unit_long :</span></dt><dd>Degrees Celsius</dd><dt><span>units :</span></dt><dd>degrees_C</dd><dt><span>valid_max :</span></dt><dd>40.0</dd><dt><span>valid_min :</span></dt><dd>-10.0</dd></dl></div><div class='xr-var-data'><pre>array([[[[        nan,         nan,         nan, ...,         nan,\n",
       "                  nan,         nan],\n",
       "         [        nan,         nan,         nan, ...,         nan,\n",
       "                  nan,         nan],\n",
       "         [        nan,         nan,         nan, ...,         nan,\n",
       "                  nan,         nan],\n",
       "         ...,\n",
       "         [-0.40954614, -1.17083919, -1.14525425, ..., -1.2399193 ,\n",
       "          -1.25214267, -1.12933445],\n",
       "         [-0.87462348, -1.27545393, -1.16714406, ..., -1.13814735,\n",
       "          -1.23075104, -0.98833424],\n",
       "         [-1.18391621, -1.17766154, -1.16344774, ..., -1.01960468,\n",
       "          -1.63819015, -0.28787479]],\n",
       "\n",
       "        [[        nan,         nan,         nan, ...,         nan,\n",
       "                  nan,         nan],\n",
       "         [        nan,         nan,         nan, ...,         nan,\n",
       "                  nan,         nan],\n",
       "         [        nan,         nan,         nan, ...,         nan,\n",
       "                  nan,         nan],\n",
       "...\n",
       "         [        nan,         nan,         nan, ...,         nan,\n",
       "                  nan,         nan],\n",
       "         [        nan,         nan,         nan, ...,         nan,\n",
       "                  nan,         nan],\n",
       "         [        nan,         nan,         nan, ...,         nan,\n",
       "                  nan,         nan]],\n",
       "\n",
       "        [[        nan,         nan,         nan, ...,         nan,\n",
       "                  nan,         nan],\n",
       "         [        nan,         nan,         nan, ...,         nan,\n",
       "                  nan,         nan],\n",
       "         [        nan,         nan,         nan, ...,         nan,\n",
       "                  nan,         nan],\n",
       "         ...,\n",
       "         [        nan,         nan,         nan, ...,         nan,\n",
       "                  nan,         nan],\n",
       "         [        nan,         nan,         nan, ...,         nan,\n",
       "                  nan,         nan],\n",
       "         [        nan,         nan,         nan, ...,         nan,\n",
       "                  nan,         nan]]]], shape=(10, 21, 672, 1440))</pre></div></li><li class='xr-var-item'><div class='xr-var-name'><span>zos</span></div><div class='xr-var-dims'>(time, latitude, longitude)</div><div class='xr-var-dtype'>float64</div><div class='xr-var-preview xr-preview'>nan nan nan ... -0.3612 -0.3361</div><input id='attrs-1467e989-0d5d-4ad5-869c-d70a46cb8059' class='xr-var-attrs-in' type='checkbox' ><label for='attrs-1467e989-0d5d-4ad5-869c-d70a46cb8059' title='Show/Hide attributes'><svg class='icon xr-icon-file-text2'><use xlink:href='#icon-file-text2'></use></svg></label><input id='data-1786a653-3d6a-434e-a920-a404570b99f6' class='xr-var-data-in' type='checkbox'><label for='data-1786a653-3d6a-434e-a920-a404570b99f6' title='Show/Hide data repr'><svg class='icon xr-icon-database'><use xlink:href='#icon-database'></use></svg></label><div class='xr-var-attrs'><dl class='xr-attrs'><dt><span>cell_methods :</span></dt><dd>area: mean</dd><dt><span>long_name :</span></dt><dd>Sea surface height</dd><dt><span>standard_name :</span></dt><dd>sea_surface_height_above_geoid</dd><dt><span>unit_long :</span></dt><dd>Meters</dd><dt><span>units :</span></dt><dd>m</dd><dt><span>valid_max :</span></dt><dd>5.0</dd><dt><span>valid_min :</span></dt><dd>-5.0</dd></dl></div><div class='xr-var-data'><pre>array([[[        nan,         nan,         nan, ...,         nan,\n",
       "                 nan,         nan],\n",
       "        [        nan,         nan,         nan, ...,         nan,\n",
       "                 nan,         nan],\n",
       "        [        nan,         nan,         nan, ...,         nan,\n",
       "                 nan,         nan],\n",
       "        ...,\n",
       "        [-0.30116001, -0.25837314, -0.22858357, ..., -0.24703991,\n",
       "         -0.24387711, -0.2739625 ],\n",
       "        [-0.3422291 , -0.24750552, -0.26212421, ..., -0.29041508,\n",
       "         -0.27428019, -0.3168129 ],\n",
       "        [-0.40892482, -0.31795225, -0.29860088, ..., -0.31581378,\n",
       "         -0.31399083, -0.27057073]],\n",
       "\n",
       "       [[        nan,         nan,         nan, ...,         nan,\n",
       "                 nan,         nan],\n",
       "        [        nan,         nan,         nan, ...,         nan,\n",
       "                 nan,         nan],\n",
       "        [        nan,         nan,         nan, ...,         nan,\n",
       "                 nan,         nan],\n",
       "...\n",
       "        [-0.44792557, -0.37872329, -0.26720744, ..., -0.28591028,\n",
       "         -0.26361412, -0.29682171],\n",
       "        [-0.52117682, -0.33369279, -0.3779192 , ..., -0.41354349,\n",
       "         -0.33925804, -0.33018708],\n",
       "        [-0.55844229, -0.46431458, -0.38743493, ..., -0.37902129,\n",
       "         -0.38869694, -0.3250162 ]],\n",
       "\n",
       "       [[        nan,         nan,         nan, ...,         nan,\n",
       "                 nan,         nan],\n",
       "        [        nan,         nan,         nan, ...,         nan,\n",
       "                 nan,         nan],\n",
       "        [        nan,         nan,         nan, ...,         nan,\n",
       "                 nan,         nan],\n",
       "        ...,\n",
       "        [-0.46661079, -0.40966097, -0.31810126, ..., -0.27509525,\n",
       "         -0.27206281, -0.30743518],\n",
       "        [-0.51251775, -0.37420097, -0.40225083, ..., -0.41286865,\n",
       "         -0.37056383, -0.25521803],\n",
       "        [-0.58301705, -0.47630405, -0.41272843, ..., -0.35565588,\n",
       "         -0.36124745, -0.33614674]]], shape=(10, 672, 1440))</pre></div></li><li class='xr-var-item'><div class='xr-var-name'><span>uo</span></div><div class='xr-var-dims'>(time, depth, latitude, longitude)</div><div class='xr-var-dtype'>float64</div><div class='xr-var-preview xr-preview'>nan nan nan nan ... nan nan nan nan</div><input id='attrs-468d8968-76f3-4210-9c57-4ee5a9d2e2d0' class='xr-var-attrs-in' type='checkbox' ><label for='attrs-468d8968-76f3-4210-9c57-4ee5a9d2e2d0' title='Show/Hide attributes'><svg class='icon xr-icon-file-text2'><use xlink:href='#icon-file-text2'></use></svg></label><input id='data-ee18ab33-3a91-435a-9b00-2cd8f07026bb' class='xr-var-data-in' type='checkbox'><label for='data-ee18ab33-3a91-435a-9b00-2cd8f07026bb' title='Show/Hide data repr'><svg class='icon xr-icon-database'><use xlink:href='#icon-database'></use></svg></label><div class='xr-var-attrs'><dl class='xr-attrs'><dt><span>cell_methods :</span></dt><dd>area: mean</dd><dt><span>long_name :</span></dt><dd>Eastward velocity</dd><dt><span>standard_name :</span></dt><dd>eastward_sea_water_velocity</dd><dt><span>unit_long :</span></dt><dd>Meters per second</dd><dt><span>units :</span></dt><dd>m s-1</dd><dt><span>valid_max :</span></dt><dd>5.0</dd><dt><span>valid_min :</span></dt><dd>-5.0</dd></dl></div><div class='xr-var-data'><pre>array([[[[            nan,             nan,             nan, ...,\n",
       "                      nan,             nan,             nan],\n",
       "         [            nan,             nan,             nan, ...,\n",
       "                      nan,             nan,             nan],\n",
       "         [            nan,             nan,             nan, ...,\n",
       "                      nan,             nan,             nan],\n",
       "         ...,\n",
       "         [-2.74375174e-02, -3.05642113e-02, -2.52293460e-02, ...,\n",
       "          -2.14624684e-02, -9.40103084e-03,  1.59343157e-03],\n",
       "         [-2.05439441e-02, -1.94305815e-02, -2.28077825e-02, ...,\n",
       "          -1.93285216e-02, -1.27689531e-02, -6.92380220e-03],\n",
       "         [ 1.25786131e-02, -2.82291276e-03,  5.73142944e-03, ...,\n",
       "          -1.42163290e-02, -6.25578314e-03, -1.63131598e-02]],\n",
       "\n",
       "        [[            nan,             nan,             nan, ...,\n",
       "                      nan,             nan,             nan],\n",
       "         [            nan,             nan,             nan, ...,\n",
       "                      nan,             nan,             nan],\n",
       "         [            nan,             nan,             nan, ...,\n",
       "                      nan,             nan,             nan],\n",
       "...\n",
       "                      nan,             nan,             nan],\n",
       "         [            nan,             nan,             nan, ...,\n",
       "                      nan,             nan,             nan],\n",
       "         [            nan,             nan,             nan, ...,\n",
       "                      nan,             nan,             nan]],\n",
       "\n",
       "        [[            nan,             nan,             nan, ...,\n",
       "                      nan,             nan,             nan],\n",
       "         [            nan,             nan,             nan, ...,\n",
       "                      nan,             nan,             nan],\n",
       "         [            nan,             nan,             nan, ...,\n",
       "                      nan,             nan,             nan],\n",
       "         ...,\n",
       "         [            nan,             nan,             nan, ...,\n",
       "                      nan,             nan,             nan],\n",
       "         [            nan,             nan,             nan, ...,\n",
       "                      nan,             nan,             nan],\n",
       "         [            nan,             nan,             nan, ...,\n",
       "                      nan,             nan,             nan]]]],\n",
       "      shape=(10, 21, 672, 1440))</pre></div></li><li class='xr-var-item'><div class='xr-var-name'><span>vo</span></div><div class='xr-var-dims'>(time, depth, latitude, longitude)</div><div class='xr-var-dtype'>float64</div><div class='xr-var-preview xr-preview'>nan nan nan nan ... nan nan nan nan</div><input id='attrs-3de8016d-434b-4bb6-88bf-9bf66cf52a92' class='xr-var-attrs-in' type='checkbox' ><label for='attrs-3de8016d-434b-4bb6-88bf-9bf66cf52a92' title='Show/Hide attributes'><svg class='icon xr-icon-file-text2'><use xlink:href='#icon-file-text2'></use></svg></label><input id='data-dced80bf-719f-455d-8ed1-f03c54c4bb1b' class='xr-var-data-in' type='checkbox'><label for='data-dced80bf-719f-455d-8ed1-f03c54c4bb1b' title='Show/Hide data repr'><svg class='icon xr-icon-database'><use xlink:href='#icon-database'></use></svg></label><div class='xr-var-attrs'><dl class='xr-attrs'><dt><span>cell_methods :</span></dt><dd>area: mean</dd><dt><span>long_name :</span></dt><dd>Northward velocity</dd><dt><span>standard_name :</span></dt><dd>northward_sea_water_velocity</dd><dt><span>unit_long :</span></dt><dd>Meters per second</dd><dt><span>units :</span></dt><dd>m s-1</dd><dt><span>valid_max :</span></dt><dd>5.0</dd><dt><span>valid_min :</span></dt><dd>-5.0</dd></dl></div><div class='xr-var-data'><pre>array([[[[        nan,         nan,         nan, ...,         nan,\n",
       "                  nan,         nan],\n",
       "         [        nan,         nan,         nan, ...,         nan,\n",
       "                  nan,         nan],\n",
       "         [        nan,         nan,         nan, ...,         nan,\n",
       "                  nan,         nan],\n",
       "         ...,\n",
       "         [ 0.03865461,  0.05730535,  0.05223328, ...,  0.04627722,\n",
       "           0.04382813,  0.04079213],\n",
       "         [ 0.03317678,  0.04811765,  0.04902337, ...,  0.0328797 ,\n",
       "           0.04509615,  0.02489481],\n",
       "         [ 0.02947417,  0.03705329,  0.0354737 , ...,  0.03816915,\n",
       "           0.04033564,  0.03676346]],\n",
       "\n",
       "        [[        nan,         nan,         nan, ...,         nan,\n",
       "                  nan,         nan],\n",
       "         [        nan,         nan,         nan, ...,         nan,\n",
       "                  nan,         nan],\n",
       "         [        nan,         nan,         nan, ...,         nan,\n",
       "                  nan,         nan],\n",
       "...\n",
       "         [        nan,         nan,         nan, ...,         nan,\n",
       "                  nan,         nan],\n",
       "         [        nan,         nan,         nan, ...,         nan,\n",
       "                  nan,         nan],\n",
       "         [        nan,         nan,         nan, ...,         nan,\n",
       "                  nan,         nan]],\n",
       "\n",
       "        [[        nan,         nan,         nan, ...,         nan,\n",
       "                  nan,         nan],\n",
       "         [        nan,         nan,         nan, ...,         nan,\n",
       "                  nan,         nan],\n",
       "         [        nan,         nan,         nan, ...,         nan,\n",
       "                  nan,         nan],\n",
       "         ...,\n",
       "         [        nan,         nan,         nan, ...,         nan,\n",
       "                  nan,         nan],\n",
       "         [        nan,         nan,         nan, ...,         nan,\n",
       "                  nan,         nan],\n",
       "         [        nan,         nan,         nan, ...,         nan,\n",
       "                  nan,         nan]]]], shape=(10, 21, 672, 1440))</pre></div></li><li class='xr-var-item'><div class='xr-var-name'><span>so</span></div><div class='xr-var-dims'>(time, depth, latitude, longitude)</div><div class='xr-var-dtype'>float64</div><div class='xr-var-preview xr-preview'>nan nan nan nan ... nan nan nan nan</div><input id='attrs-aa3eb952-1466-4cf1-b8d7-3081f890bf84' class='xr-var-attrs-in' type='checkbox' ><label for='attrs-aa3eb952-1466-4cf1-b8d7-3081f890bf84' title='Show/Hide attributes'><svg class='icon xr-icon-file-text2'><use xlink:href='#icon-file-text2'></use></svg></label><input id='data-425cec5c-029b-4226-89ff-3c826f085e69' class='xr-var-data-in' type='checkbox'><label for='data-425cec5c-029b-4226-89ff-3c826f085e69' title='Show/Hide data repr'><svg class='icon xr-icon-database'><use xlink:href='#icon-database'></use></svg></label><div class='xr-var-attrs'><dl class='xr-attrs'><dt><span>cell_methods :</span></dt><dd>area: mean</dd><dt><span>long_name :</span></dt><dd>Salinity</dd><dt><span>standard_name :</span></dt><dd>sea_water_salinity</dd><dt><span>unit_long :</span></dt><dd>Practical Salinity Unit</dd><dt><span>units :</span></dt><dd>1e-3</dd><dt><span>valid_max :</span></dt><dd>50.0</dd><dt><span>valid_min :</span></dt><dd>0.0</dd></dl></div><div class='xr-var-data'><pre>array([[[[        nan,         nan,         nan, ...,         nan,\n",
       "                  nan,         nan],\n",
       "         [        nan,         nan,         nan, ...,         nan,\n",
       "                  nan,         nan],\n",
       "         [        nan,         nan,         nan, ...,         nan,\n",
       "                  nan,         nan],\n",
       "         ...,\n",
       "         [28.28433418, 28.2444725 , 28.25937843, ..., 28.15514565,\n",
       "          28.20844841, 28.39455032],\n",
       "         [28.39093781, 28.1305294 , 28.25367546, ..., 28.23498726,\n",
       "          28.14961433, 28.51063919],\n",
       "         [28.97228432, 28.37693405, 28.40132523, ..., 28.3864212 ,\n",
       "          28.3841629 , 28.97318649]],\n",
       "\n",
       "        [[        nan,         nan,         nan, ...,         nan,\n",
       "                  nan,         nan],\n",
       "         [        nan,         nan,         nan, ...,         nan,\n",
       "                  nan,         nan],\n",
       "         [        nan,         nan,         nan, ...,         nan,\n",
       "                  nan,         nan],\n",
       "...\n",
       "         [        nan,         nan,         nan, ...,         nan,\n",
       "                  nan,         nan],\n",
       "         [        nan,         nan,         nan, ...,         nan,\n",
       "                  nan,         nan],\n",
       "         [        nan,         nan,         nan, ...,         nan,\n",
       "                  nan,         nan]],\n",
       "\n",
       "        [[        nan,         nan,         nan, ...,         nan,\n",
       "                  nan,         nan],\n",
       "         [        nan,         nan,         nan, ...,         nan,\n",
       "                  nan,         nan],\n",
       "         [        nan,         nan,         nan, ...,         nan,\n",
       "                  nan,         nan],\n",
       "         ...,\n",
       "         [        nan,         nan,         nan, ...,         nan,\n",
       "                  nan,         nan],\n",
       "         [        nan,         nan,         nan, ...,         nan,\n",
       "                  nan,         nan],\n",
       "         [        nan,         nan,         nan, ...,         nan,\n",
       "                  nan,         nan]]]], shape=(10, 21, 672, 1440))</pre></div></li></ul></div></li><li class='xr-section-item'><input id='section-5f60a6ef-6f87-40f8-bfb9-b0126c11c695' class='xr-section-summary-in' type='checkbox'  ><label for='section-5f60a6ef-6f87-40f8-bfb9-b0126c11c695' class='xr-section-summary' >Indexes: <span>(4)</span></label><div class='xr-section-inline-details'></div><div class='xr-section-details'><ul class='xr-var-list'><li class='xr-var-item'><div class='xr-index-name'><div>depth</div></div><div class='xr-index-preview'>PandasIndex</div><input type='checkbox' disabled/><label></label><input id='index-667660df-5cc9-4879-9777-cd6879bf4c7c' class='xr-index-data-in' type='checkbox'/><label for='index-667660df-5cc9-4879-9777-cd6879bf4c7c' title='Show/Hide index repr'><svg class='icon xr-icon-database'><use xlink:href='#icon-database'></use></svg></label><div class='xr-index-data'><pre>PandasIndex(Index([0.49402499198913574,   47.37369155883789,    92.3260726928711,\n",
       "        155.85069274902344,  222.47520446777344,   318.1274108886719,\n",
       "         380.2130126953125,   453.9377136230469,   541.0889282226562,\n",
       "         643.5667724609375,   763.3331298828125,   902.3392944335938,\n",
       "            1245.291015625,  1684.2840576171875,   2225.077880859375,\n",
       "         3220.820068359375,   3597.031982421875,    3992.48388671875,\n",
       "          4405.22412109375,      4833.291015625,     5274.7841796875],\n",
       "      dtype=&#x27;float32&#x27;, name=&#x27;depth&#x27;))</pre></div></li><li class='xr-var-item'><div class='xr-index-name'><div>latitude</div></div><div class='xr-index-preview'>PandasIndex</div><input type='checkbox' disabled/><label></label><input id='index-2c4ac02b-0387-4c21-a4cd-b0b3f984877b' class='xr-index-data-in' type='checkbox'/><label for='index-2c4ac02b-0387-4c21-a4cd-b0b3f984877b' title='Show/Hide index repr'><svg class='icon xr-icon-database'><use xlink:href='#icon-database'></use></svg></label><div class='xr-index-data'><pre>PandasIndex(Index([ -78.0, -77.75,  -77.5, -77.25,  -77.0, -76.75,  -76.5, -76.25,  -76.0,\n",
       "       -75.75,\n",
       "       ...\n",
       "         87.5,  87.75,   88.0,  88.25,   88.5,  88.75,   89.0,  89.25,   89.5,\n",
       "        89.75],\n",
       "      dtype=&#x27;float64&#x27;, name=&#x27;latitude&#x27;, length=672))</pre></div></li><li class='xr-var-item'><div class='xr-index-name'><div>longitude</div></div><div class='xr-index-preview'>PandasIndex</div><input type='checkbox' disabled/><label></label><input id='index-26a5906b-9d0a-433b-8fb3-2ef053e06627' class='xr-index-data-in' type='checkbox'/><label for='index-26a5906b-9d0a-433b-8fb3-2ef053e06627' title='Show/Hide index repr'><svg class='icon xr-icon-database'><use xlink:href='#icon-database'></use></svg></label><div class='xr-index-data'><pre>PandasIndex(Index([ -180.0, -179.75,  -179.5, -179.25,  -179.0, -178.75,  -178.5, -178.25,\n",
       "        -178.0, -177.75,\n",
       "       ...\n",
       "         177.5,  177.75,   178.0,  178.25,   178.5,  178.75,   179.0,  179.25,\n",
       "         179.5,  179.75],\n",
       "      dtype=&#x27;float64&#x27;, name=&#x27;longitude&#x27;, length=1440))</pre></div></li><li class='xr-var-item'><div class='xr-index-name'><div>time</div></div><div class='xr-index-preview'>PandasIndex</div><input type='checkbox' disabled/><label></label><input id='index-7c6d9a33-7f0e-411a-be0f-d12ab8efe1e3' class='xr-index-data-in' type='checkbox'/><label for='index-7c6d9a33-7f0e-411a-be0f-d12ab8efe1e3' title='Show/Hide index repr'><svg class='icon xr-icon-database'><use xlink:href='#icon-database'></use></svg></label><div class='xr-index-data'><pre>PandasIndex(DatetimeIndex([&#x27;2025-07-02&#x27;, &#x27;2025-07-03&#x27;, &#x27;2025-07-04&#x27;, &#x27;2025-07-05&#x27;,\n",
       "               &#x27;2025-07-06&#x27;, &#x27;2025-07-07&#x27;, &#x27;2025-07-08&#x27;, &#x27;2025-07-09&#x27;,\n",
       "               &#x27;2025-07-10&#x27;, &#x27;2025-07-11&#x27;],\n",
       "              dtype=&#x27;datetime64[s]&#x27;, name=&#x27;time&#x27;, freq=None))</pre></div></li></ul></div></li><li class='xr-section-item'><input id='section-0026d40d-aac9-4043-b6d2-50f710b9da58' class='xr-section-summary-in' type='checkbox'  checked><label for='section-0026d40d-aac9-4043-b6d2-50f710b9da58' class='xr-section-summary' >Attributes: <span>(7)</span></label><div class='xr-section-inline-details'></div><div class='xr-section-details'><dl class='xr-attrs'><dt><span>Conventions :</span></dt><dd>CF-1.8</dd><dt><span>area :</span></dt><dd>Global</dd><dt><span>contact :</span></dt><dd>glonet@mercator-ocean.eu</dd><dt><span>institution :</span></dt><dd>Mercator Ocean International</dd><dt><span>source :</span></dt><dd>MOI GLONET</dd><dt><span>title :</span></dt><dd>daily mean fields from GLONET 1/4 degree resolution Forecast updated Daily</dd><dt><span>references :</span></dt><dd>www.edito.eu</dd></dl></div></li></ul></div></div>"
      ],
      "text/plain": [
       "<xarray.Dataset> Size: 7GB\n",
       "Dimensions:    (time: 10, depth: 21, latitude: 672, longitude: 1440)\n",
       "Coordinates:\n",
       "  * depth      (depth) float32 84B 0.494 47.37 92.33 ... 4.833e+03 5.275e+03\n",
       "  * latitude   (latitude) float64 5kB -78.0 -77.75 -77.5 ... 89.25 89.5 89.75\n",
       "  * longitude  (longitude) float64 12kB -180.0 -179.8 -179.5 ... 179.5 179.8\n",
       "  * time       (time) datetime64[s] 80B 2025-07-02 2025-07-03 ... 2025-07-11\n",
       "Data variables:\n",
       "    thetao     (time, depth, latitude, longitude) float64 2GB nan nan ... nan\n",
       "    zos        (time, latitude, longitude) float64 77MB nan nan ... -0.3361\n",
       "    uo         (time, depth, latitude, longitude) float64 2GB nan nan ... nan\n",
       "    vo         (time, depth, latitude, longitude) float64 2GB nan nan ... nan\n",
       "    so         (time, depth, latitude, longitude) float64 2GB nan nan ... nan\n",
       "Attributes:\n",
       "    Conventions:  CF-1.8\n",
       "    area:         Global\n",
       "    contact:      glonet@mercator-ocean.eu\n",
       "    institution:  Mercator Ocean International\n",
       "    source:       MOI GLONET\n",
       "    title:        daily mean fields from GLONET 1/4 degree resolution Forecas...\n",
       "    references:   www.edito.eu"
      ]
     },
     "execution_count": 7,
     "metadata": {},
     "output_type": "execute_result"
    }
   ],
   "source": [
    "forecast_file_nc\n"
   ]
  },
  {
   "cell_type": "markdown",
   "id": "dfdd0ec2",
   "metadata": {},
   "source": [
    "## Save the file\n",
    "In order to investigate the output of `create_forecast` function,  that the forcast file (xarray.Dataset type) is not yes converted into NetCDF format.  Given that `save_bytes_to_s3` function takes binary file format as its input, the forecaste file is converted."
   ]
  },
  {
   "cell_type": "code",
   "execution_count": 9,
   "id": "374af8c0",
   "metadata": {},
   "outputs": [
    {
     "name": "stdout",
     "output_type": "stream",
     "text": [
      "Successfully uploaded bytes to S3 project-da-ml/glonet_1_4_daily_forecast/2025-07-01/GLONET_MOI_2025-07-02_2025-07-11.nc\n"
     ]
    }
   ],
   "source": [
    "save_bytes_to_s3(bucket_name=EDITO_BUCKET_NAME, \n",
    "                    object_bytes=forecast_file_nc.to_netcdf(), \n",
    "                    object_key=URL.partition('public/')[2])\n"
   ]
  },
  {
   "cell_type": "code",
   "execution_count": null,
   "id": "827082be",
   "metadata": {},
   "outputs": [],
   "source": []
  }
 ],
 "metadata": {
  "kernelspec": {
   "display_name": "glon",
   "language": "python",
   "name": "python3"
  },
  "language_info": {
   "codemirror_mode": {
    "name": "ipython",
    "version": 3
   },
   "file_extension": ".py",
   "mimetype": "text/x-python",
   "name": "python",
   "nbconvert_exporter": "python",
   "pygments_lexer": "ipython3",
   "version": "3.12.11"
  }
 },
 "nbformat": 4,
 "nbformat_minor": 5
}
